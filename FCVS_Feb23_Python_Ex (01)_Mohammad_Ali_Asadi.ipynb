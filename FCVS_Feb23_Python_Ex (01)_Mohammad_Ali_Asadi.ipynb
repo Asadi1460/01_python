{
 "cells": [
  {
   "cell_type": "markdown",
   "id": "a0acc211",
   "metadata": {},
   "source": [
    "# $\\color{red}{\\text{Exercise 01 (Basics - Session 1)}}$"
   ]
  },
  {
   "cell_type": "markdown",
   "id": "eaf4c54e",
   "metadata": {},
   "source": [
    "## $\\color{blue}{\\text{Exercise 01: What is the type of the following data?}}$"
   ]
  },
  {
   "cell_type": "code",
   "execution_count": 1,
   "id": "02607262",
   "metadata": {},
   "outputs": [],
   "source": [
    "a = \"Filoger\"\n",
    "b = \"19.0\"\n",
    "c = 18\n",
    "d = 13.0\n",
    "e = True"
   ]
  },
  {
   "cell_type": "code",
   "execution_count": 2,
   "id": "b74752e1",
   "metadata": {},
   "outputs": [
    {
     "name": "stdout",
     "output_type": "stream",
     "text": [
      "Type of a is:  <class 'str'>\n",
      "Type of b is:  <class 'str'>\n",
      "Type of c is:  <class 'int'>\n",
      "Type of d is:  <class 'float'>\n",
      "Type of e is:  <class 'bool'>\n"
     ]
    }
   ],
   "source": [
    "print('Type of a is: ',type(a))\n",
    "print('Type of b is: ',type(b))\n",
    "print('Type of c is: ',type(c))\n",
    "print('Type of d is: ',type(d))\n",
    "print('Type of e is: ',type(e))"
   ]
  },
  {
   "cell_type": "markdown",
   "id": "27786710",
   "metadata": {},
   "source": [
    "## $\\color{blue}{\\text{Exercise 02: Convert the following data to integer.}}$"
   ]
  },
  {
   "cell_type": "code",
   "execution_count": 4,
   "id": "d738b719",
   "metadata": {},
   "outputs": [],
   "source": [
    "a = \"Filoger\"\n",
    "b = \"19.0\"\n",
    "c = 18\n",
    "d = 13.0\n",
    "e = True"
   ]
  },
  {
   "cell_type": "code",
   "execution_count": 5,
   "id": "80c2cd70",
   "metadata": {},
   "outputs": [
    {
     "ename": "ValueError",
     "evalue": "invalid literal for int() with base 10: 'Filoger'",
     "output_type": "error",
     "traceback": [
      "\u001b[0;31m---------------------------------------------------------------------------\u001b[0m",
      "\u001b[0;31mValueError\u001b[0m                                Traceback (most recent call last)",
      "\u001b[0;32m<ipython-input-5-83e88d74eb44>\u001b[0m in \u001b[0;36m<module>\u001b[0;34m\u001b[0m\n\u001b[0;32m----> 1\u001b[0;31m \u001b[0ma2int\u001b[0m \u001b[0;34m=\u001b[0m \u001b[0mint\u001b[0m\u001b[0;34m(\u001b[0m\u001b[0ma\u001b[0m\u001b[0;34m)\u001b[0m    \u001b[0;31m# Can't convert str to int\u001b[0m\u001b[0;34m\u001b[0m\u001b[0;34m\u001b[0m\u001b[0m\n\u001b[0m\u001b[1;32m      2\u001b[0m \u001b[0;34m\u001b[0m\u001b[0m\n\u001b[1;32m      3\u001b[0m \u001b[0;31m# This code makes an error: invalid literal for int() with base 10: 'Filoger'\u001b[0m\u001b[0;34m\u001b[0m\u001b[0;34m\u001b[0m\u001b[0;34m\u001b[0m\u001b[0m\n",
      "\u001b[0;31mValueError\u001b[0m: invalid literal for int() with base 10: 'Filoger'"
     ]
    }
   ],
   "source": [
    "a2int = int(a)    # Can't convert str to int\n",
    "\n",
    "# This code makes an error: invalid literal for int() with base 10: 'Filoger'"
   ]
  },
  {
   "cell_type": "code",
   "execution_count": 8,
   "id": "03f9029f",
   "metadata": {},
   "outputs": [
    {
     "name": "stdout",
     "output_type": "stream",
     "text": [
      "19.0 -> int : 19 \n"
     ]
    }
   ],
   "source": [
    "#b2int = int(b)    # Can't convert str to int\n",
    "\n",
    "b2float = float(b)\n",
    "b2int = int(b2float)\n",
    "print('{0} -> int : {1} '.format(b,b2int))"
   ]
  },
  {
   "cell_type": "code",
   "execution_count": 9,
   "id": "49d49af2",
   "metadata": {},
   "outputs": [
    {
     "name": "stdout",
     "output_type": "stream",
     "text": [
      "18 -> int : 18 \n",
      "13.0 -> int : 13 \n",
      "True -> int : 1 \n"
     ]
    }
   ],
   "source": [
    "c2int = int(c)\n",
    "print('{0} -> int : {1} '.format(c,c2int))\n",
    "\n",
    "d2int = int(d)\n",
    "print('{0} -> int : {1} '.format(d,d2int))\n",
    "\n",
    "e2int = int(e)\n",
    "print('{0} -> int : {1} '.format(e,e2int))"
   ]
  },
  {
   "cell_type": "code",
   "execution_count": null,
   "id": "088fc1a7",
   "metadata": {},
   "outputs": [],
   "source": []
  },
  {
   "cell_type": "markdown",
   "id": "d6d2f279",
   "metadata": {},
   "source": [
    "\n",
    "## $\\color{blue}{\\text{Exercise 03: Print size of the following data in memory (bytes).}}$"
   ]
  },
  {
   "cell_type": "code",
   "execution_count": 7,
   "id": "cc6a9689",
   "metadata": {},
   "outputs": [],
   "source": [
    "a = \"Filoger\"\n",
    "b = \"19.0\"\n",
    "c = 18\n",
    "d = 13.0\n",
    "e = True"
   ]
  },
  {
   "cell_type": "code",
   "execution_count": 8,
   "id": "04cb54c1",
   "metadata": {},
   "outputs": [],
   "source": [
    "import sys"
   ]
  },
  {
   "cell_type": "code",
   "execution_count": 9,
   "id": "afe17130",
   "metadata": {},
   "outputs": [
    {
     "name": "stdout",
     "output_type": "stream",
     "text": [
      "Size of <\"Filoger\"> is 56 bytes.\n",
      "Size of <\"19.0\"> is 53 bytes.\n",
      "Size of <18> is 28 bytes.\n",
      "Size of <13.0> is 24 bytes.\n",
      "Size of <True> is 28 bytes.\n"
     ]
    }
   ],
   "source": [
    "print('Size of <\\\"{0}\\\"> is {1} bytes.'.format(a,sys.getsizeof(a)))\n",
    "print('Size of <\\\"{0}\\\"> is {1} bytes.'.format(b,sys.getsizeof(b)))\n",
    "print('Size of <{0}> is {1} bytes.'.format(c,sys.getsizeof(c)))\n",
    "print('Size of <{0}> is {1} bytes.'.format(d,sys.getsizeof(d)))\n",
    "print('Size of <{0}> is {1} bytes.'.format(e,sys.getsizeof(e)))"
   ]
  },
  {
   "cell_type": "code",
   "execution_count": null,
   "id": "4f4c79c6",
   "metadata": {},
   "outputs": [],
   "source": []
  },
  {
   "cell_type": "markdown",
   "id": "21c07af0",
   "metadata": {},
   "source": [
    "## $\\color{blue}{\\text{Exercise 04: Print running time of program to find type of the following data.}}$"
   ]
  },
  {
   "cell_type": "code",
   "execution_count": 10,
   "id": "03a9e261",
   "metadata": {},
   "outputs": [],
   "source": [
    "a = \"Filoger\"\n",
    "b = \"19.0\"\n",
    "c = 18\n",
    "d = 13.0\n",
    "e = True"
   ]
  },
  {
   "cell_type": "code",
   "execution_count": 11,
   "id": "49d43b10",
   "metadata": {},
   "outputs": [],
   "source": [
    "import time"
   ]
  },
  {
   "cell_type": "code",
   "execution_count": 12,
   "id": "eb6ccb9f",
   "metadata": {},
   "outputs": [
    {
     "name": "stdout",
     "output_type": "stream",
     "text": [
      "Execution time is 0.157 miliseconds.\n"
     ]
    }
   ],
   "source": [
    "Start_Time = time.time()\n",
    "type(a)\n",
    "End_Time = time.time()\n",
    "Execution_time = End_Time - Start_Time\n",
    "print('Execution time is {0:.3f} miliseconds.'.format(Execution_time*1000))"
   ]
  },
  {
   "cell_type": "code",
   "execution_count": 13,
   "id": "6a1bdb3a",
   "metadata": {},
   "outputs": [
    {
     "name": "stdout",
     "output_type": "stream",
     "text": [
      "Execution time is 0.085 miliseconds.\n"
     ]
    }
   ],
   "source": [
    "Start_Time = time.time()\n",
    "type(b)\n",
    "End_Time = time.time()\n",
    "Execution_time = End_Time - Start_Time\n",
    "print('Execution time is {0:.3f} miliseconds.'.format(Execution_time*1000))"
   ]
  },
  {
   "cell_type": "code",
   "execution_count": 14,
   "id": "5f36a403",
   "metadata": {},
   "outputs": [
    {
     "name": "stdout",
     "output_type": "stream",
     "text": [
      "Execution time is 0.240 miliseconds.\n"
     ]
    }
   ],
   "source": [
    "Start_Time = time.time()\n",
    "type(c)\n",
    "End_Time = time.time()\n",
    "Execution_time = End_Time - Start_Time\n",
    "print('Execution time is {0:.3f} miliseconds.'.format(Execution_time*1000))"
   ]
  },
  {
   "cell_type": "code",
   "execution_count": 15,
   "id": "71bae22e",
   "metadata": {},
   "outputs": [
    {
     "name": "stdout",
     "output_type": "stream",
     "text": [
      "Execution time is 0.168 miliseconds.\n"
     ]
    }
   ],
   "source": [
    "Start_Time = time.time()\n",
    "type(d)\n",
    "End_Time = time.time()\n",
    "Execution_time = End_Time - Start_Time\n",
    "print('Execution time is {0:.3f} miliseconds.'.format(Execution_time*1000))"
   ]
  },
  {
   "cell_type": "code",
   "execution_count": 16,
   "id": "7e16a0a0",
   "metadata": {},
   "outputs": [
    {
     "name": "stdout",
     "output_type": "stream",
     "text": [
      "Execution time is 0.085 miliseconds.\n"
     ]
    }
   ],
   "source": [
    "Start_Time = time.time()\n",
    "type(e)\n",
    "End_Time = time.time()\n",
    "Execution_time = End_Time - Start_Time\n",
    "print('Execution time is {0:.3f} miliseconds.'.format(Execution_time*1000))"
   ]
  },
  {
   "cell_type": "code",
   "execution_count": 17,
   "id": "5e4f3c0d",
   "metadata": {},
   "outputs": [
    {
     "name": "stdout",
     "output_type": "stream",
     "text": [
      "Overall Execution time is 0.321 miliseconds.\n"
     ]
    }
   ],
   "source": [
    "Start_Time = time.time()\n",
    "type(a)\n",
    "type(b)\n",
    "type(c)\n",
    "type(d)\n",
    "type(e),\n",
    "End_Time = time.time()\n",
    "Execution_time = End_Time - Start_Time\n",
    "print('Overall Execution time is {0:.3f} miliseconds.'.format(Execution_time*1000))"
   ]
  },
  {
   "cell_type": "code",
   "execution_count": null,
   "id": "70f69730",
   "metadata": {},
   "outputs": [],
   "source": []
  }
 ],
 "metadata": {
  "kernelspec": {
   "display_name": "Python 3",
   "language": "python",
   "name": "python3"
  },
  "language_info": {
   "codemirror_mode": {
    "name": "ipython",
    "version": 3
   },
   "file_extension": ".py",
   "mimetype": "text/x-python",
   "name": "python",
   "nbconvert_exporter": "python",
   "pygments_lexer": "ipython3",
   "version": "3.9.4"
  }
 },
 "nbformat": 4,
 "nbformat_minor": 5
}
